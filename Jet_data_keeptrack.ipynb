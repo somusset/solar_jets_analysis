{
 "cells": [
  {
   "cell_type": "markdown",
   "id": "c690cfc9",
   "metadata": {},
   "source": [
    "Short notebook running in solarjethunterenv to create, write and read a database keeping track of the data download for jet analysis (cutouts in different AIA channels).\n",
    "The first part should be ignored once the pickle file has been created."
   ]
  },
  {
   "cell_type": "markdown",
   "id": "3942f1aa",
   "metadata": {},
   "source": [
    "# Creation of the database"
   ]
  },
  {
   "cell_type": "markdown",
   "id": "7e4cc77f",
   "metadata": {},
   "source": [
    "It will be dictionary containing different arrays, each array is of the size of the jet list.  \n",
    "The first array contains the list of jet id.\n",
    "The second array contains the list of downloaded chanels for each jet.\n",
    "Other arrays could be created with speed measured in each chanel and so on..."
   ]
  },
  {
   "cell_type": "markdown",
   "id": "2520ad5f",
   "metadata": {},
   "source": [
    "### Read jet catalogue to extract sjh jet ids"
   ]
  },
  {
   "cell_type": "code",
   "execution_count": 1,
   "id": "9e4d41ae",
   "metadata": {},
   "outputs": [
    {
     "name": "stderr",
     "output_type": "stream",
     "text": [
      "WARNING:panoptes_client:Broken libmagic installation detected. The python-magic module is installed but can't be imported. Please check that both python-magic and the libmagic shared library are installed correctly. Uploading media other than images may not work.\n"
     ]
    }
   ],
   "source": [
    "from utils.Jet_class import json_export_list, json_import_list, csv_import_list, csv_export_list\n",
    "import numpy as np \n",
    "from astropy.io import ascii\n",
    "import matplotlib.pyplot as plt"
   ]
  },
  {
   "cell_type": "code",
   "execution_count": 2,
   "id": "983171fd",
   "metadata": {},
   "outputs": [],
   "source": [
    "json_file = 'exports/Jet_clusters_3.0_2.0_paperID_cluster_xy.json'"
   ]
  },
  {
   "cell_type": "code",
   "execution_count": 3,
   "id": "89bb2815",
   "metadata": {},
   "outputs": [
    {
     "name": "stdout",
     "output_type": "stream",
     "text": [
      "The 881 JetCluster objects are imported from exports/Jet_clusters_3.0_2.0_paperID_cluster_xy.json.\n"
     ]
    }
   ],
   "source": [
    "Jet_clusters=json_import_list(json_file)"
   ]
  },
  {
   "cell_type": "code",
   "execution_count": 4,
   "id": "9b8506a1",
   "metadata": {},
   "outputs": [],
   "source": [
    "sjh_identifier = np.array([Jet_clusters[i].ID for i in range(len(Jet_clusters))], dtype=str)"
   ]
  },
  {
   "cell_type": "code",
   "execution_count": 10,
   "id": "8d723b22",
   "metadata": {},
   "outputs": [
    {
     "data": {
      "text/plain": [
       "(881,)"
      ]
     },
     "execution_count": 10,
     "metadata": {},
     "output_type": "execute_result"
    }
   ],
   "source": [
    "type(sjh_identifier)"
   ]
  },
  {
   "cell_type": "markdown",
   "id": "7b3135d0",
   "metadata": {},
   "source": [
    "### Create array to store the fact that AIA 304A has been downloaded"
   ]
  },
  {
   "cell_type": "code",
   "execution_count": 14,
   "id": "cd21883f",
   "metadata": {},
   "outputs": [],
   "source": [
    "AIA304_downloaded = np.zeros(len(sjh_identifier), dtype=bool)"
   ]
  },
  {
   "cell_type": "markdown",
   "id": "02ab7647",
   "metadata": {},
   "source": [
    "Change value for jet 'sjh_2011-02-13T05_1'"
   ]
  },
  {
   "cell_type": "code",
   "execution_count": 16,
   "id": "0c5f49f7",
   "metadata": {},
   "outputs": [],
   "source": [
    "AIA304_downloaded[np.where(sjh_identifier == 'sjh_2011-02-13T05_1' )] = 1"
   ]
  },
  {
   "cell_type": "markdown",
   "id": "165241cb",
   "metadata": {},
   "source": [
    "### Bundle in dict and save"
   ]
  },
  {
   "cell_type": "code",
   "execution_count": 20,
   "id": "9418cfce",
   "metadata": {},
   "outputs": [],
   "source": [
    "import pickle"
   ]
  },
  {
   "cell_type": "code",
   "execution_count": 19,
   "id": "7233c2e0",
   "metadata": {},
   "outputs": [],
   "source": [
    "jet_data_keeptrack = {\"jet_id\":sjh_identifier, \n",
    "                     \"AIA304_downloaded\":AIA304_downloaded}"
   ]
  },
  {
   "cell_type": "code",
   "execution_count": 21,
   "id": "12f8f5a5",
   "metadata": {},
   "outputs": [],
   "source": [
    "pickle.dump(jet_data_keeptrack, open(\"jet_data_keeptrack.p\", \"wb\"))"
   ]
  },
  {
   "cell_type": "markdown",
   "id": "0c10c3cf",
   "metadata": {},
   "source": [
    "# Read the database and modify"
   ]
  },
  {
   "cell_type": "code",
   "execution_count": 5,
   "id": "cdf6f185",
   "metadata": {},
   "outputs": [],
   "source": [
    "import numpy as np"
   ]
  },
  {
   "cell_type": "code",
   "execution_count": 12,
   "id": "e41dc998",
   "metadata": {},
   "outputs": [],
   "source": [
    "import pickle\n",
    "database_name = \"jet_data_keeptrack.p\""
   ]
  },
  {
   "cell_type": "code",
   "execution_count": 13,
   "id": "5973c902",
   "metadata": {},
   "outputs": [],
   "source": [
    "jet_data_database = pickle.load( open( database_name, \"rb\" ) )"
   ]
  },
  {
   "cell_type": "markdown",
   "id": "9429375d",
   "metadata": {},
   "source": [
    "Read the existing keep"
   ]
  },
  {
   "cell_type": "code",
   "execution_count": 14,
   "id": "d9fa7c93",
   "metadata": {},
   "outputs": [
    {
     "data": {
      "text/plain": [
       "dict_keys(['jet_id', 'AIA304_downloaded', 'AIA304_plot'])"
      ]
     },
     "execution_count": 14,
     "metadata": {},
     "output_type": "execute_result"
    }
   ],
   "source": [
    "jet_data_database.keys()"
   ]
  },
  {
   "cell_type": "markdown",
   "id": "8f93d760",
   "metadata": {},
   "source": [
    "Read a particular value"
   ]
  },
  {
   "cell_type": "code",
   "execution_count": 15,
   "id": "bdad2c20",
   "metadata": {},
   "outputs": [
    {
     "data": {
      "text/plain": [
       "array([ True])"
      ]
     },
     "execution_count": 15,
     "metadata": {},
     "output_type": "execute_result"
    }
   ],
   "source": [
    "jet_data_database[\"AIA304_downloaded\"][np.where(jet_data_database[\"jet_id\"] == 'sjh_2011-02-13T05_1' )]"
   ]
  },
  {
   "cell_type": "markdown",
   "id": "2e7321b5",
   "metadata": {},
   "source": [
    "Change this value"
   ]
  },
  {
   "cell_type": "code",
   "execution_count": 16,
   "id": "8f7595cd",
   "metadata": {},
   "outputs": [],
   "source": [
    "jet_data_database[\"AIA304_downloaded\"][np.where(jet_data_database[\"jet_id\"] == 'sjh_2011-02-13T05_1' )] = 1"
   ]
  },
  {
   "cell_type": "markdown",
   "id": "02ebd288",
   "metadata": {},
   "source": [
    "Add a new key"
   ]
  },
  {
   "cell_type": "code",
   "execution_count": 8,
   "id": "27195429",
   "metadata": {},
   "outputs": [],
   "source": [
    "AIA304_plot = np.zeros(len(jet_data_database[\"jet_id\"]), dtype=bool)"
   ]
  },
  {
   "cell_type": "code",
   "execution_count": 9,
   "id": "9a7d1fd8",
   "metadata": {},
   "outputs": [],
   "source": [
    "jet_data_database[\"AIA304_plot\"] = AIA304_plot"
   ]
  },
  {
   "cell_type": "code",
   "execution_count": 10,
   "id": "d20f72c9",
   "metadata": {},
   "outputs": [
    {
     "data": {
      "text/plain": [
       "dict_keys(['jet_id', 'AIA304_downloaded', 'AIA304_plot'])"
      ]
     },
     "execution_count": 10,
     "metadata": {},
     "output_type": "execute_result"
    }
   ],
   "source": [
    "jet_data_database.keys()"
   ]
  },
  {
   "cell_type": "markdown",
   "id": "b17a9c9a",
   "metadata": {},
   "source": [
    "Save it again"
   ]
  },
  {
   "cell_type": "code",
   "execution_count": 11,
   "id": "c609ed8c",
   "metadata": {},
   "outputs": [],
   "source": [
    "pickle.dump(jet_data_database, open(database_name, \"wb\"))"
   ]
  },
  {
   "cell_type": "markdown",
   "id": "9cb735f0",
   "metadata": {},
   "source": [
    "See"
   ]
  },
  {
   "cell_type": "code",
   "execution_count": 19,
   "id": "bf86fcc6",
   "metadata": {},
   "outputs": [
    {
     "data": {
      "text/plain": [
       "array(['sjh_2011-02-13T05_1'], dtype='<U19')"
      ]
     },
     "execution_count": 19,
     "metadata": {},
     "output_type": "execute_result"
    }
   ],
   "source": [
    "jet_data_database[\"jet_id\"][np.where(jet_data_database[\"AIA304_downloaded\"])]"
   ]
  },
  {
   "cell_type": "code",
   "execution_count": null,
   "id": "da2ee310",
   "metadata": {},
   "outputs": [],
   "source": []
  }
 ],
 "metadata": {
  "kernelspec": {
   "display_name": "solarjethunterenv",
   "language": "python",
   "name": "solarjethunterenv"
  },
  "language_info": {
   "codemirror_mode": {
    "name": "ipython",
    "version": 3
   },
   "file_extension": ".py",
   "mimetype": "text/x-python",
   "name": "python",
   "nbconvert_exporter": "python",
   "pygments_lexer": "ipython3",
   "version": "3.11.4"
  }
 },
 "nbformat": 4,
 "nbformat_minor": 5
}
