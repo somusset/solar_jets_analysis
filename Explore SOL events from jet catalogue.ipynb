{
 "cells": [
  {
   "cell_type": "markdown",
   "id": "df09c86f",
   "metadata": {},
   "source": [
    "This notebook should be run in the solarjethunterenv.    "
   ]
  },
  {
   "cell_type": "markdown",
   "id": "db9c1962",
   "metadata": {},
   "source": [
    "Its goal is to extract the wavelength information to see how much of the SOL events contained the 304 A chanel in the HEK reports - to answer the comments from the first referee report to the jet paper."
   ]
  },
  {
   "cell_type": "markdown",
   "id": "4c4ce924",
   "metadata": {},
   "source": [
    "## Read SJH catalogue and extract SOL ids"
   ]
  },
  {
   "cell_type": "code",
   "execution_count": 307,
   "id": "18f9336b",
   "metadata": {},
   "outputs": [],
   "source": [
    "from utils.Jet_class import json_export_list, json_import_list, csv_import_list, csv_export_list\n",
    "import numpy as np \n",
    "from astropy.io import ascii\n",
    "import matplotlib.pyplot as plt"
   ]
  },
  {
   "cell_type": "code",
   "execution_count": 308,
   "id": "b0d709f5",
   "metadata": {},
   "outputs": [],
   "source": [
    "json_file = 'exports/Jet_clusters_3.0_2.0_paperID_cluster_xy.json'"
   ]
  },
  {
   "cell_type": "code",
   "execution_count": 309,
   "id": "201f7b4a",
   "metadata": {},
   "outputs": [
    {
     "name": "stdout",
     "output_type": "stream",
     "text": [
      "The 881 JetCluster objects are imported from exports/Jet_clusters_3.0_2.0_paperID_cluster_xy.json.\n"
     ]
    }
   ],
   "source": [
    "Jet_clusters=json_import_list(json_file)"
   ]
  },
  {
   "cell_type": "code",
   "execution_count": 310,
   "id": "e1d4217c",
   "metadata": {},
   "outputs": [],
   "source": [
    "Cluster_SOL = np.array([Jet_clusters[i].SOL for i in range(len(Jet_clusters))], dtype=str)\n",
    "Cluster_date = np.array([Jet_clusters[i].obs_time for i in range(len(Jet_clusters))], dtype='datetime64')\n",
    "Cluster_dur = np.array([Jet_clusters[i].Duration for i in range(len(Jet_clusters))], dtype=float)\n",
    "sjh_identifier = np.array([Jet_clusters[i].ID for i in range(len(Jet_clusters))], dtype=str)"
   ]
  },
  {
   "cell_type": "markdown",
   "id": "affad4f2",
   "metadata": {},
   "source": [
    "### Create the list of unique SOL ids"
   ]
  },
  {
   "cell_type": "code",
   "execution_count": 497,
   "id": "98eb8b29",
   "metadata": {},
   "outputs": [
    {
     "data": {
      "text/plain": [
       "229"
      ]
     },
     "execution_count": 497,
     "metadata": {},
     "output_type": "execute_result"
    }
   ],
   "source": [
    "unique_SOL_events = np.unique(Cluster_SOL)\n",
    "len(unique_SOL_events)"
   ]
  },
  {
   "cell_type": "markdown",
   "id": "0a675807",
   "metadata": {},
   "source": [
    "## Find the corresponding HEK events"
   ]
  },
  {
   "cell_type": "code",
   "execution_count": 312,
   "id": "075b59ff",
   "metadata": {},
   "outputs": [
    {
     "name": "stdout",
     "output_type": "stream",
     "text": [
      "2011-01-20T09:15:44.000000\n",
      "2016-12-24T14:29:42.000000\n"
     ]
    }
   ],
   "source": [
    "print(np.min(Cluster_date))\n",
    "print(np.max(Cluster_date))"
   ]
  },
  {
   "cell_type": "code",
   "execution_count": 313,
   "id": "9884c3a8",
   "metadata": {},
   "outputs": [],
   "source": [
    "from sunpy.net import attrs as a, Fido\n",
    "timerange = a.Time('2011/01/01 00:00:00', '2017/01/01 00:00:00')\n",
    "res = Fido.search(timerange, a.hek.CJ) "
   ]
  },
  {
   "cell_type": "code",
   "execution_count": 510,
   "id": "cd61b687",
   "metadata": {},
   "outputs": [
    {
     "data": {
      "text/plain": [
       "367"
      ]
     },
     "execution_count": 510,
     "metadata": {},
     "output_type": "execute_result"
    }
   ],
   "source": [
    "hek_SOL = res['hek'][\"SOL_standard\"]\n",
    "unique_hek_SOL = np.unique(hek_SOL)\n",
    "len(unique_hek_SOL)"
   ]
  },
  {
   "cell_type": "code",
   "execution_count": 514,
   "id": "0b2e982e",
   "metadata": {},
   "outputs": [
    {
     "data": {
      "text/plain": [
       "123"
      ]
     },
     "execution_count": 514,
     "metadata": {},
     "output_type": "execute_result"
    }
   ],
   "source": [
    "selection_tot304 = res['hek'][res['hek'][\"obs_meanwavel\"]==3.04e-06]\n",
    "unique_hek_SOL_304 = np.unique(selection_tot304[\"SOL_standard\"])\n",
    "len(unique_hek_SOL_304)"
   ]
  },
  {
   "cell_type": "markdown",
   "id": "1daf54df",
   "metadata": {},
   "source": [
    "### Example with the first SOL id in our list"
   ]
  },
  {
   "cell_type": "code",
   "execution_count": 10,
   "id": "412e026f",
   "metadata": {},
   "outputs": [],
   "source": [
    "selection0 = res['hek'][res['hek'][\"SOL_standard\"]==unique_SOL_events[0]]"
   ]
  },
  {
   "cell_type": "code",
   "execution_count": 21,
   "id": "dc5540d2",
   "metadata": {},
   "outputs": [
    {
     "name": "stdout",
     "output_type": "stream",
     "text": [
      "[2.11e-06 3.04e-06]\n"
     ]
    }
   ],
   "source": [
    "print(selection0[\"obs_meanwavel\"].value)"
   ]
  },
  {
   "cell_type": "code",
   "execution_count": 16,
   "id": "a3b020e3",
   "metadata": {},
   "outputs": [
    {
     "data": {
      "text/html": [
       "<div><i>HEKTable length=2</i>\n",
       "<table id=\"table1807303337424\" class=\"table-striped table-bordered table-condensed\">\n",
       "<thead><tr><th>gs_thumburl</th><th>comment_count</th><th>hpc_bbox</th><th>outflow_width</th><th>frm_humanflag</th><th>hgc_coord</th><th>event_coordsys</th><th>obs_levelnum</th><th>hpc_coord</th><th>event_npixels</th><th>gs_imageurl</th><th>ar_polarity</th><th>frm_paramset</th><th>hrc_coord</th><th>event_starttime</th><th>ar_mtwilsoncls</th><th>event_type</th><th>intensmin</th><th>obs_meanwavel</th><th>outflow_openingangle</th><th>frm_url</th><th>skel_chaincode</th><th>bound_chaincode</th><th>noposition</th><th>active</th><th>intensmax</th><th>frm_versionnumber</th><th>area_uncert</th><th>obs_dataprepurl</th><th>hpc_geom</th><th>hgc_bbox</th><th>intensmedian</th><th>chaincodetype</th><th>obs_channelid</th><th>event_clippedspatial</th><th>ar_noaaclass</th><th>SOL_standard</th><th>event_avg_rating</th><th>eventtype</th><th>intensunit</th><th>hpc_boundcc</th><th>event_mapurl</th><th>frm_contact</th><th>ar_penumbracls</th><th>intensmean</th><th>bound_ccstartc1</th><th>outflow_transspeed</th><th>frm_name</th><th>area_atdiskcenter</th><th>frm_identifier</th><th>obs_observatory</th><th>event_description</th><th>boundbox_c2ur</th><th>obs_firstprocessingdate</th><th>boundbox_c2ll</th><th>frm_institute</th><th>hrc_bbox</th><th>refs_orig</th><th>ar_mcintoshcls</th><th>event_maskurl</th><th>bound_ccstartc2</th><th>gs_movieurl</th><th>event_score</th><th>skel_startc2</th><th>skel_startc1</th><th>event_expires</th><th>outflow_speedunit</th><th>hrc_boundcc</th><th>event_probability</th><th>intensvar</th><th>frm_daterun</th><th>outflow_lengthunit</th><th>outflow_length</th><th>event_coordunit</th><th>hpc_y</th><th>hpc_x</th><th>search_instrument</th><th>ar_numspots</th><th>kb_archivdate</th><th>kb_archivist</th><th>intenstotal</th><th>sum_overlap_scores</th><th>hgs_boundcc</th><th>intensskew</th><th>obs_includesnrt</th><th>rasterscan</th><th>obs_wavelunit</th><th>kb_archivid</th><th>search_frm_name</th><th>boundbox_c1ur</th><th>ar_noaanum</th><th>area_atdiskcenteruncert</th><th>boundbox_c1ll</th><th>event_importance_num_ratings</th><th>ar_compactnesscls</th><th>skel_curvature</th><th>event_testflag</th><th>event_c2error</th><th>hrc_r</th><th>skel_nsteps</th><th>hgs_y</th><th>obs_title</th><th>hgs_x</th><th>hcr_checked</th><th>frm_specificid</th><th>event_title</th><th>obs_instrument</th><th>event_c1error</th><th>revision</th><th>hpc_radius</th><th>outflow_widthunit</th><th>event_endtime</th><th>event_importance</th><th>event_coord2</th><th>event_coord3</th><th>event_coord1</th><th>search_observatory</th><th>area_raw</th><th>concept</th><th>event_pixelunit</th><th>hgc_boundcc</th><th>outflow_speed</th><th>hgc_x</th><th>hrc_a</th><th>event_peaktime</th><th>hgc_y</th><th>gs_galleryid</th><th>hgs_coord</th><th>ar_zurichcls</th><th>bound_ccnsteps</th><th>intenskurt</th><th>event_clippedtemporal</th><th>rasterscantype</th><th>search_channelid</th><th>hgs_bbox</th><th>area_unit</th><th>obs_lastprocessingdate</th><th>refs</th></tr></thead>\n",
       "<thead><tr><th>str194</th><th>str1</th><th>str130</th><th>object</th><th>str5</th><th>str35</th><th>str12</th><th>object</th><th>str30</th><th>object</th><th>str188</th><th>object</th><th>str14</th><th>str41</th><th>Time</th><th>str1</th><th>str2</th><th>object</th><th>float64</th><th>object</th><th>str61</th><th>str1</th><th>str1</th><th>str5</th><th>str4</th><th>object</th><th>object</th><th>object</th><th>str1</th><th>str186</th><th>str125</th><th>object</th><th>str1</th><th>str8</th><th>str1</th><th>str1</th><th>str30</th><th>object</th><th>str2</th><th>str1</th><th>str1</th><th>str1</th><th>str12</th><th>str1</th><th>object</th><th>object</th><th>object</th><th>str22</th><th>object</th><th>str29</th><th>str4</th><th>str560</th><th>float64</th><th>str1</th><th>float64</th><th>str23</th><th>str110</th><th>str1</th><th>str1</th><th>str1</th><th>object</th><th>str212</th><th>str1</th><th>object</th><th>object</th><th>str1</th><th>str6</th><th>str1</th><th>object</th><th>object</th><th>str19</th><th>str2</th><th>object</th><th>str6</th><th>float64</th><th>float64</th><th>str7</th><th>object</th><th>str19</th><th>str19</th><th>object</th><th>str22</th><th>str1</th><th>object</th><th>str1</th><th>str1</th><th>str2</th><th>str82</th><th>str16</th><th>float64</th><th>object</th><th>object</th><th>float64</th><th>str1</th><th>str1</th><th>object</th><th>str5</th><th>float64</th><th>float64</th><th>object</th><th>float64</th><th>str1</th><th>float64</th><th>str5</th><th>str1</th><th>str68</th><th>str7</th><th>float64</th><th>str1</th><th>str19</th><th>str2</th><th>Time</th><th>object</th><th>float64</th><th>object</th><th>float64</th><th>str4</th><th>object</th><th>str11</th><th>str1</th><th>str1</th><th>object</th><th>float64</th><th>float64</th><th>str19</th><th>float64</th><th>str48</th><th>str32</th><th>str1</th><th>object</th><th>object</th><th>str1</th><th>str1</th><th>str16</th><th>str120</th><th>str1</th><th>str1</th><th>object</th></tr></thead>\n",
       "<tr><td>http://www.lmsal.com/hpkb/podimages/2011/01/21/pod_sainz%2Bdalda_alberto_2011-01-21T22%3A42%3A32.088/thumb/panorama_asainz_AIA-304_AIA-211_20110120T094545_at_20110121T224035.jpg</td><td>0</td><td>POLYGON((-335 -1119,-155 -1119,-155 -887,-335 -887,-335 -1119))</td><td>None</td><td>true</td><td>POINT(-71.12168289 -75.492392)</td><td>UTC-HPC-TOPO</td><td>None</td><td>POINT(-245 -1003)</td><td>None</td><td>http://www.lmsal.com/hpkb/podimages/2011/01/21/pod_sainz%2Bdalda_alberto_2011-01-21T22%3A42%3A32.088/panorama_asainz_AIA-304_AIA-211_20110120T094545_at_20110121T224035.jpg</td><td>None</td><td>n/a</td><td>POINT(1.05939829132651 166.273314931505)</td><td>2011-01-20 09:00:09.000</td><td></td><td>CJ</td><td>None</td><td>2.11e-06</td><td>None</td><td>n/a</td><td></td><td></td><td>false</td><td>true</td><td>None</td><td>None</td><td>None</td><td></td><td>010300000001000000050000000000000000F074C000000000007C91C000000000006063C000000000007C91C000000000006063C00000000000B88BC00000000000F074C00000000000B88BC00000000000F074C000000000007C91C0</td><td>POLYGON((-74.395154 -72.691952,-58.959908 -80.8028,-27.277949 -69.861778,-65.488232 -67.863333,-74.395154 -72.691952))</td><td>None</td><td></td><td>211</td><td></td><td></td><td>SOL2011-01-20T09:00:09L289C165</td><td>None</td><td>14</td><td></td><td></td><td></td><td>Scott Green</td><td></td><td>None</td><td>None</td><td>None</td><td>asainz</td><td>None</td><td>Annotator-build_20100909-avc</td><td>SDO</td><td>Coronal jet in the South pole. It seems like a twisted loop. High temporal resolution.</td><td>-1119.0</td><td></td><td>-887.0</td><td>LMSAL</td><td>POLYGON((1.198512 163.333644,1.159126 172.113769,0.923909 170.087857,0.972864 159.309574,1.198512 163.333644))</td><td></td><td></td><td></td><td>None</td><td>http://sdowww.lmsal.com/sdomedia/h264/2011/01/20/AVC_AlbertoSainzDalda_20110120T090009-20110120T095933_SDO_304-211_36.0_20110121_224230.mov</td><td></td><td>None</td><td>None</td><td></td><td></td><td></td><td>None</td><td>None</td><td>2011-01-21T22:42:30</td><td></td><td>None</td><td>arcsec</td><td>-1003.0</td><td>-245.0</td><td>AIA</td><td>None</td><td>2011-01-21T22:42:34</td><td>sainzdalda_alberto</td><td>None</td><td>0</td><td></td><td>None</td><td></td><td></td><td>cm</td><td>ivo://helio-informatics.org/CJ211_AlbertoSainzDalda_20110121_224230</td><td>Human Annotation</td><td>-155.0</td><td>None</td><td>None</td><td>-335.0</td><td></td><td></td><td>None</td><td>false</td><td>115.85</td><td>1.05939829132651</td><td>None</td><td>-75.492392</td><td></td><td>-71.30142</td><td>true</td><td></td><td>Coronal (Polar) Jet</td><td>AIA</td><td>89.75</td><td>1</td><td>1032.48922512537638</td><td></td><td>2011-01-20 09:59:33.000</td><td>None</td><td>-1003.0</td><td>None</td><td>-245.0</td><td>SDO</td><td>None</td><td>Coronal Jet</td><td></td><td></td><td>None</td><td>-71.12168289</td><td>166.273314931505</td><td></td><td>-75.492392</td><td>pod_sainz+dalda_alberto_2011-01-21T22:42:32.088</td><td>POINT(-71.30142 -75.492392)</td><td></td><td>None</td><td>None</td><td></td><td></td><td>211</td><td>POLYGON((-74.574891 -72.691952,-59.139645 -80.8028,-27.457686 -69.861778,-65.667969 -67.863333,-74.574891 -72.691952))</td><td></td><td></td><td>[{&apos;ref_name&apos;: &apos;CJ:  HER Entry&apos;, &apos;ref_type&apos;: &apos;ivorn&apos;, &apos;ref_url&apos;: &apos;ivo://helio-informatics.org/CJ304_AlbertoSainzDalda_20110121_224230&apos;}, {&apos;ref_name&apos;: &apos;Movie&apos;, &apos;ref_type&apos;: &apos;movie&apos;, &apos;ref_url&apos;: &apos;http://sdowww.lmsal.com/sdomedia/h264/2011/01/20/AVC_AlbertoSainzDalda_20110120T090009-20110120T095933_SDO_304-211_36.0_20110121_224230.mov&apos;}, {&apos;ref_name&apos;: &apos;Event_MapURL&apos;, &apos;ref_type&apos;: &apos;unknown&apos;, &apos;ref_url&apos;: &apos;&apos;}, {&apos;ref_name&apos;: &apos;FRM_URL&apos;, &apos;ref_type&apos;: &apos;unknown&apos;, &apos;ref_url&apos;: &apos;n/a&apos;}]</td></tr>\n",
       "<tr><td>http://www.lmsal.com/hpkb/podimages/2011/01/21/pod_sainz%2Bdalda_alberto_2011-01-21T22%3A42%3A32.088/thumb/panorama_asainz_AIA-304_AIA-211_20110120T094545_at_20110121T224035.jpg</td><td>0</td><td>POLYGON((-335 -1119,-155 -1119,-155 -887,-335 -887,-335 -1119))</td><td>None</td><td>true</td><td>POINT(-71.12168289 -75.492392)</td><td>UTC-HPC-TOPO</td><td>None</td><td>POINT(-245 -1003)</td><td>None</td><td>http://www.lmsal.com/hpkb/podimages/2011/01/21/pod_sainz%2Bdalda_alberto_2011-01-21T22%3A42%3A32.088/panorama_asainz_AIA-304_AIA-211_20110120T094545_at_20110121T224035.jpg</td><td>None</td><td>n/a</td><td>POINT(1.05939829132651 166.273314931505)</td><td>2011-01-20 09:00:09.000</td><td></td><td>CJ</td><td>None</td><td>3.04e-06</td><td>None</td><td>n/a</td><td></td><td></td><td>false</td><td>true</td><td>None</td><td>None</td><td>None</td><td></td><td>010300000001000000050000000000000000F074C000000000007C91C000000000006063C000000000007C91C000000000006063C00000000000B88BC00000000000F074C00000000000B88BC00000000000F074C000000000007C91C0</td><td>POLYGON((-74.395154 -72.691952,-58.959908 -80.8028,-27.277949 -69.861778,-65.488232 -67.863333,-74.395154 -72.691952))</td><td>None</td><td></td><td>304</td><td></td><td></td><td>SOL2011-01-20T09:00:09L289C165</td><td>1.0</td><td>14</td><td></td><td></td><td></td><td>Scott Green</td><td></td><td>None</td><td>None</td><td>None</td><td>asainz</td><td>None</td><td>Annotator-build_20100909-avc</td><td>SDO</td><td>Coronal jet in the South pole. It seems like a twisted loop. High temporal resolution.</td><td>-1119.0</td><td></td><td>-887.0</td><td>LMSAL</td><td>POLYGON((1.198512 163.333644,1.159126 172.113769,0.923909 170.087857,0.972864 159.309574,1.198512 163.333644))</td><td></td><td></td><td></td><td>None</td><td>http://sdowww.lmsal.com/sdomedia/h264/2011/01/20/AVC_AlbertoSainzDalda_20110120T090009-20110120T095933_SDO_304-211_36.0_20110121_224230.mov</td><td></td><td>None</td><td>None</td><td></td><td></td><td></td><td>None</td><td>None</td><td>2011-01-21T22:42:30</td><td></td><td>None</td><td>arcsec</td><td>-1003.0</td><td>-245.0</td><td>AIA</td><td>None</td><td>2011-01-21T22:42:35</td><td>sainzdalda_alberto</td><td>None</td><td>0</td><td></td><td>None</td><td></td><td></td><td>cm</td><td>ivo://helio-informatics.org/CJ304_AlbertoSainzDalda_20110121_224230</td><td>Human Annotation</td><td>-155.0</td><td>None</td><td>None</td><td>-335.0</td><td>1</td><td></td><td>None</td><td>false</td><td>115.85</td><td>1.05939829132651</td><td>None</td><td>-75.492392</td><td></td><td>-71.30142</td><td>true</td><td></td><td>Coronal (Polar) Jet</td><td>AIA</td><td>89.75</td><td>1</td><td>1032.48922512537638</td><td></td><td>2011-01-20 09:59:33.000</td><td>1</td><td>-1003.0</td><td>None</td><td>-245.0</td><td>SDO</td><td>None</td><td>Coronal Jet</td><td></td><td></td><td>None</td><td>-71.12168289</td><td>166.273314931505</td><td></td><td>-75.492392</td><td>pod_sainz+dalda_alberto_2011-01-21T22:42:32.088</td><td>POINT(-71.30142 -75.492392)</td><td></td><td>None</td><td>None</td><td></td><td></td><td>304</td><td>POLYGON((-74.574891 -72.691952,-59.139645 -80.8028,-27.457686 -69.861778,-65.667969 -67.863333,-74.574891 -72.691952))</td><td></td><td></td><td>[{&apos;ref_name&apos;: &apos;CJ:  HER Entry&apos;, &apos;ref_type&apos;: &apos;ivorn&apos;, &apos;ref_url&apos;: &apos;ivo://helio-informatics.org/CJ211_AlbertoSainzDalda_20110121_224230&apos;}, {&apos;ref_name&apos;: &apos;Movie&apos;, &apos;ref_type&apos;: &apos;movie&apos;, &apos;ref_url&apos;: &apos;http://sdowww.lmsal.com/sdomedia/h264/2011/01/20/AVC_AlbertoSainzDalda_20110120T090009-20110120T095933_SDO_304-211_36.0_20110121_224230.mov&apos;}, {&apos;ref_name&apos;: &apos;Event_MapURL&apos;, &apos;ref_type&apos;: &apos;unknown&apos;, &apos;ref_url&apos;: &apos;&apos;}, {&apos;ref_name&apos;: &apos;FRM_URL&apos;, &apos;ref_type&apos;: &apos;unknown&apos;, &apos;ref_url&apos;: &apos;n/a&apos;}]</td></tr>\n",
       "</table></div>"
      ],
      "text/plain": [
       "<sunpy.net.hek.hek.HEKTable object at 0x000001A4C6F6B750>\n",
       "                                                                                   gs_thumburl                                                                                    ...\n",
       "--------------------------------------------------------------------------------------------------------------------------------------------------------------------------------- ...\n",
       "http://www.lmsal.com/hpkb/podimages/2011/01/21/pod_sainz%2Bdalda_alberto_2011-01-21T22%3A42%3A32.088/thumb/panorama_asainz_AIA-304_AIA-211_20110120T094545_at_20110121T224035.jpg ...\n",
       "http://www.lmsal.com/hpkb/podimages/2011/01/21/pod_sainz%2Bdalda_alberto_2011-01-21T22%3A42%3A32.088/thumb/panorama_asainz_AIA-304_AIA-211_20110120T094545_at_20110121T224035.jpg ..."
      ]
     },
     "execution_count": 16,
     "metadata": {},
     "output_type": "execute_result"
    }
   ],
   "source": [
    "selection0"
   ]
  },
  {
   "cell_type": "code",
   "execution_count": 22,
   "id": "28e9239c",
   "metadata": {},
   "outputs": [
    {
     "data": {
      "text/plain": [
       "True"
      ]
     },
     "execution_count": 22,
     "metadata": {},
     "output_type": "execute_result"
    }
   ],
   "source": [
    "3.04e-06 in selection0[\"obs_meanwavel\"].value"
   ]
  },
  {
   "cell_type": "markdown",
   "id": "9bb85d65",
   "metadata": {},
   "source": [
    "### Loop"
   ]
  },
  {
   "cell_type": "code",
   "execution_count": 314,
   "id": "cfa9e4cd",
   "metadata": {},
   "outputs": [],
   "source": [
    "reported_in_304 = []\n",
    "for sol_id in unique_SOL_events:\n",
    "    selection = res['hek'][res['hek'][\"SOL_standard\"]==sol_id]\n",
    "    reported_in_304.append(3.04e-06 in selection[\"obs_meanwavel\"].value)\n",
    "reported_in_304 = np.array(reported_in_304)"
   ]
  },
  {
   "cell_type": "code",
   "execution_count": 315,
   "id": "11c6f469",
   "metadata": {},
   "outputs": [
    {
     "data": {
      "text/plain": [
       "229"
      ]
     },
     "execution_count": 315,
     "metadata": {},
     "output_type": "execute_result"
    }
   ],
   "source": [
    "len(reported_in_304)"
   ]
  },
  {
   "cell_type": "code",
   "execution_count": 316,
   "id": "96bce936",
   "metadata": {},
   "outputs": [],
   "source": [
    "onlyTrue = unique_SOL_events[reported_in_304]"
   ]
  },
  {
   "cell_type": "code",
   "execution_count": 317,
   "id": "7f15d37a",
   "metadata": {},
   "outputs": [
    {
     "data": {
      "text/plain": [
       "(102,)"
      ]
     },
     "execution_count": 317,
     "metadata": {},
     "output_type": "execute_result"
    }
   ],
   "source": [
    "np.shape(onlyTrue)"
   ]
  },
  {
   "cell_type": "code",
   "execution_count": 318,
   "id": "4038d222",
   "metadata": {},
   "outputs": [
    {
     "data": {
      "text/plain": [
       "numpy.ndarray"
      ]
     },
     "execution_count": 318,
     "metadata": {},
     "output_type": "execute_result"
    }
   ],
   "source": [
    "type(onlyTrue)"
   ]
  },
  {
   "cell_type": "markdown",
   "id": "8b974b56",
   "metadata": {},
   "source": [
    "Make sure we selected SOL events associated with reporst in 304 A"
   ]
  },
  {
   "cell_type": "code",
   "execution_count": 319,
   "id": "115c5b48",
   "metadata": {},
   "outputs": [],
   "source": [
    "reported_in_304_check = []\n",
    "for sol_id in onlyTrue:\n",
    "    selection = res['hek'][res['hek'][\"SOL_standard\"]==sol_id]\n",
    "    reported_in_304_check.append(3.04e-06 in selection[\"obs_meanwavel\"].value)"
   ]
  },
  {
   "cell_type": "code",
   "execution_count": 320,
   "id": "ca52d063",
   "metadata": {},
   "outputs": [
    {
     "data": {
      "text/plain": [
       "102"
      ]
     },
     "execution_count": 320,
     "metadata": {},
     "output_type": "execute_result"
    }
   ],
   "source": [
    "len(reported_in_304_check)"
   ]
  },
  {
   "cell_type": "markdown",
   "id": "d96a65b7",
   "metadata": {},
   "source": [
    "# Select SJH jets from these 304 A HEK events"
   ]
  },
  {
   "cell_type": "code",
   "execution_count": null,
   "id": "d2754faa",
   "metadata": {},
   "outputs": [],
   "source": [
    "# DO NOT USE I think there is a mistake somewhere"
   ]
  },
  {
   "cell_type": "code",
   "execution_count": 322,
   "id": "d7ce915a",
   "metadata": {},
   "outputs": [],
   "source": [
    "#Jet_clusters_304 = []\n",
    "#for cluster in Jet_clusters:\n",
    "#    if cluster.SOL in onlyTrue:\n",
    "#        Jet_clusters_304.append(cluster)\n",
    "#Jet_clusters_304 = np.array(Jet_clusters_304)"
   ]
  },
  {
   "cell_type": "code",
   "execution_count": 323,
   "id": "4ef9cf85",
   "metadata": {},
   "outputs": [
    {
     "data": {
      "text/plain": [
       "(448,)"
      ]
     },
     "execution_count": 323,
     "metadata": {},
     "output_type": "execute_result"
    }
   ],
   "source": [
    "#np.shape(Jet_clusters_304)"
   ]
  },
  {
   "cell_type": "code",
   "execution_count": 324,
   "id": "8ea3f883",
   "metadata": {},
   "outputs": [],
   "source": [
    "#Cluster_SOL_304 = np.array([Jet_clusters[i].SOL for i in range(len(Jet_clusters_304))], dtype=str)\n",
    "#Cluster_date_304 = np.array([Jet_clusters[i].obs_time for i in range(len(Jet_clusters_304))], dtype='datetime64')\n",
    "#Cluster_dur_304 = np.array([Jet_clusters[i].Duration for i in range(len(Jet_clusters_304))], dtype=float)"
   ]
  },
  {
   "cell_type": "code",
   "execution_count": 391,
   "id": "c0d131e5",
   "metadata": {},
   "outputs": [],
   "source": [
    "#len(Cluster_SOL_304)"
   ]
  },
  {
   "cell_type": "markdown",
   "id": "3351cec3",
   "metadata": {},
   "source": [
    "### Find out the proportion of time when there is actually a jet in the HEK reports"
   ]
  },
  {
   "cell_type": "markdown",
   "id": "f26a2588",
   "metadata": {},
   "source": [
    "Extract the time intervals for each jet that belong to a selected HEK SOL event, and sort them by starting time."
   ]
  },
  {
   "cell_type": "code",
   "execution_count": 459,
   "id": "bbac7f42",
   "metadata": {},
   "outputs": [
    {
     "data": {
      "text/plain": [
       "array(['2015-07-17T08:20:54.000000'], dtype='datetime64[us]')"
      ]
     },
     "execution_count": 459,
     "metadata": {},
     "output_type": "execute_result"
    }
   ],
   "source": [
    "SOL = 'SOL2015-05-29T00:50:23L331C065'\n",
    "SOL = 'SOL2015-07-17T08:00:06L032C049'\n",
    "#SOL = onlyTrue[1]\n",
    "jet_start = Cluster_date[Cluster_SOL == SOL]\n",
    "jet_dur = Cluster_dur[Cluster_SOL == SOL]\n",
    "jet_start = Cluster_date[Cluster_SOL == SOL]\n",
    "jet_start"
   ]
  },
  {
   "cell_type": "code",
   "execution_count": 460,
   "id": "20862e7c",
   "metadata": {},
   "outputs": [],
   "source": [
    "jet_end = []\n",
    "for i in range(len(jet_start)):\n",
    "    jet_end.append( jet_start[i] + np.timedelta64(int(jet_dur[i]*60),'s') )\n",
    "jet_end = np.array(jet_end)"
   ]
  },
  {
   "cell_type": "code",
   "execution_count": 461,
   "id": "f63877e0",
   "metadata": {},
   "outputs": [
    {
     "data": {
      "text/plain": [
       "numpy.datetime64('2015-07-17T08:37:06.000000')"
      ]
     },
     "execution_count": 461,
     "metadata": {},
     "output_type": "execute_result"
    }
   ],
   "source": [
    "jet_times = np.dstack((jet_start, jet_end))\n",
    "jet_times_sorted = np.sort(jet_times, axis=1)\n",
    "jet_times_sorted[0,-1,1]"
   ]
  },
  {
   "cell_type": "code",
   "execution_count": 462,
   "id": "b0664bb7",
   "metadata": {},
   "outputs": [
    {
     "data": {
      "text/plain": [
       "array([[['2015-07-17T08:20:54.000000', '2015-07-17T08:37:06.000000']]],\n",
       "      dtype='datetime64[us]')"
      ]
     },
     "execution_count": 462,
     "metadata": {},
     "output_type": "execute_result"
    }
   ],
   "source": [
    "jet_times_sorted"
   ]
  },
  {
   "cell_type": "code",
   "execution_count": 463,
   "id": "10a3c598",
   "metadata": {},
   "outputs": [
    {
     "data": {
      "text/plain": [
       "True"
      ]
     },
     "execution_count": 463,
     "metadata": {},
     "output_type": "execute_result"
    }
   ],
   "source": [
    "no_overlap = True\n",
    "for i in range(len(jet_start)-1):\n",
    "    if jet_times_sorted[0,i,1]>jet_times_sorted[0,i+1,0]:\n",
    "        no_overlap = False\n",
    "no_overlap"
   ]
  },
  {
   "cell_type": "code",
   "execution_count": null,
   "id": "ed824dff",
   "metadata": {},
   "outputs": [],
   "source": []
  },
  {
   "cell_type": "markdown",
   "id": "97ae5a29",
   "metadata": {},
   "source": [
    "Because the jets do not overlap then we can sum the duration of all clusters "
   ]
  },
  {
   "cell_type": "code",
   "execution_count": 464,
   "id": "94548054",
   "metadata": {},
   "outputs": [
    {
     "name": "stdout",
     "output_type": "stream",
     "text": [
      "[16.2]\n",
      "16.2\n"
     ]
    }
   ],
   "source": [
    "print(jet_dur)\n",
    "print(jet_dur.sum())"
   ]
  },
  {
   "cell_type": "markdown",
   "id": "59d8db35",
   "metadata": {},
   "source": [
    "Now extract time from the HEK CJ report"
   ]
  },
  {
   "cell_type": "code",
   "execution_count": 465,
   "id": "8a69c68b",
   "metadata": {},
   "outputs": [],
   "source": [
    "selection1 = res['hek'][res['hek'][\"SOL_standard\"]==SOL]\n",
    "start_time = selection1['event_starttime'][0]\n",
    "end_time = selection1['event_endtime'][0]"
   ]
  },
  {
   "cell_type": "markdown",
   "id": "a388acd0",
   "metadata": {},
   "source": [
    "Check that the clusters start and end both in the time interval selected"
   ]
  },
  {
   "cell_type": "code",
   "execution_count": 466,
   "id": "9a7d4d8c",
   "metadata": {},
   "outputs": [
    {
     "name": "stdout",
     "output_type": "stream",
     "text": [
      "True\n",
      "True\n"
     ]
    }
   ],
   "source": [
    "print(jet_start.min() > start_time)\n",
    "print(jet_end.max() < end_time)"
   ]
  },
  {
   "cell_type": "markdown",
   "id": "a87b1f32",
   "metadata": {},
   "source": [
    "Now calculate duration of interval"
   ]
  },
  {
   "cell_type": "code",
   "execution_count": 467,
   "id": "619113d1",
   "metadata": {},
   "outputs": [
    {
     "name": "stdout",
     "output_type": "stream",
     "text": [
      "60.0\n",
      "0.26999999999999996\n"
     ]
    }
   ],
   "source": [
    "timedelta = end_time - start_time\n",
    "print(timedelta.datetime.total_seconds()/60.)\n",
    "print(jet_dur.sum() / (timedelta.datetime.total_seconds()/60.))"
   ]
  },
  {
   "cell_type": "code",
   "execution_count": 468,
   "id": "0c6719c2",
   "metadata": {},
   "outputs": [],
   "source": [
    "def calculate_jet_total_duration(jet_start, jet_end, jet_dur):\n",
    "    # sort the jet times\n",
    "    jet_times = np.dstack((jet_start, jet_end))\n",
    "    jet_times_sorted = np.sort(jet_times, axis=1)\n",
    "    \n",
    "    # check that they do not overlap\n",
    "    no_overlap = True\n",
    "    if len(jet_start) > 1:\n",
    "        for i in range(len(jet_start)-1):\n",
    "            if jet_times_sorted[0,i,1]>jet_times_sorted[0,i+1,0]:\n",
    "                no_overlap = False\n",
    "                #print(\"there is an overlap!!!\")\n",
    "        \n",
    "    if no_overlap:\n",
    "        jet_time = jet_dur.sum() # in minutes\n",
    "    else:\n",
    "        jet_time = jet_dur[0] # initialisation of jet 1\n",
    "        for i in range(len(jet_start)-1):\n",
    "            if jet_times_sorted[0,i,1]>jet_times_sorted[0,i+1,0]: # in this case there is overlap\n",
    "                additional_time = jet_times_sorted[0,i+1,1] - jet_times_sorted[0,i,1]\n",
    "                jet_time = jet_time + additional_time.astype('timedelta64[m]').astype('float')\n",
    "            else:\n",
    "                jet_time = jet_time + jet_dur[i+1]\n",
    "    \n",
    "    return jet_time"
   ]
  },
  {
   "cell_type": "code",
   "execution_count": 469,
   "id": "a77d7a88",
   "metadata": {},
   "outputs": [
    {
     "data": {
      "text/plain": [
       "array([16.2])"
      ]
     },
     "execution_count": 469,
     "metadata": {},
     "output_type": "execute_result"
    }
   ],
   "source": [
    "jet_dur"
   ]
  },
  {
   "cell_type": "code",
   "execution_count": 470,
   "id": "a744f761",
   "metadata": {},
   "outputs": [
    {
     "data": {
      "text/plain": [
       "16.2"
      ]
     },
     "execution_count": 470,
     "metadata": {},
     "output_type": "execute_result"
    }
   ],
   "source": [
    "calculate_jet_total_duration(jet_start, jet_end, jet_dur)"
   ]
  },
  {
   "cell_type": "code",
   "execution_count": 487,
   "id": "b7d1ee07",
   "metadata": {},
   "outputs": [],
   "source": [
    "def calculate_nojet_time(start_time, end_time, jet_start, jet_end, jet_dur):\n",
    "    error_in_timing = False\n",
    "    # check that the intervals make sense:\n",
    "    if jet_start.min() < start_time:\n",
    "        print(\"There might be an error in the timing\")\n",
    "        print(\"Jet min start:\")\n",
    "        print(jet_start.min())\n",
    "        print(\"and HEK report start:\")\n",
    "        print(start_time)\n",
    "        error_in_timing = True\n",
    "    if jet_end.max() > end_time:\n",
    "        print(\"There might be an error in the timing\")\n",
    "        print(\"Jet max end:\")\n",
    "        print(jet_end.max())\n",
    "        print(\"and HEK report end:\")\n",
    "        print(end_time)\n",
    "        error_in_timing = True\n",
    "\n",
    "    jet_time = calculate_jet_total_duration(jet_start, jet_end, jet_dur) # in minutes\n",
    "    \n",
    "    #calculate HEK event time\n",
    "    timedelta = (end_time - start_time).datetime.total_seconds()/60. # in minutes\n",
    "\n",
    "    # calculate no jet time\n",
    "    no_jet_time = (timedelta - jet_time)/timedelta\n",
    "    \n",
    "    return no_jet_time, error_in_timing, jet_time, timedelta"
   ]
  },
  {
   "cell_type": "code",
   "execution_count": 488,
   "id": "496f50f7",
   "metadata": {},
   "outputs": [
    {
     "data": {
      "text/plain": [
       "0.7599999999999999"
      ]
     },
     "execution_count": 488,
     "metadata": {},
     "output_type": "execute_result"
    }
   ],
   "source": [
    "jet_time = jet_dur.sum()\n",
    "type(jet_time)\n",
    "timedelta = (end_time - start_time).datetime.total_seconds()/60.\n",
    "type(timedelta)\n",
    "no_jet_time = (timedelta - jet_time)/timedelta\n",
    "no_jet_time"
   ]
  },
  {
   "cell_type": "code",
   "execution_count": 489,
   "id": "e7fb365f",
   "metadata": {},
   "outputs": [
    {
     "data": {
      "text/plain": [
       "(0.7599999999999999, False, 26.4, 110.0)"
      ]
     },
     "execution_count": 489,
     "metadata": {},
     "output_type": "execute_result"
    }
   ],
   "source": [
    "calculate_nojet_time(start_time, end_time, jet_start, jet_end, jet_dur)"
   ]
  },
  {
   "cell_type": "code",
   "execution_count": 491,
   "id": "e22353a4",
   "metadata": {
    "scrolled": false
   },
   "outputs": [
    {
     "name": "stdout",
     "output_type": "stream",
     "text": [
      "SOL2011-01-20T09:00:09L289C165\n",
      "0.26599326599326595\n",
      "SOL2011-01-20T22:00:09L353C074\n",
      "0.971111111111111\n",
      "SOL2011-01-24T22:15:09L358C011\n",
      "There might be an error in the timing\n",
      "Jet min start:\n",
      "2011-01-24T22:15:08.000000\n",
      "and HEK report start:\n",
      "2011-01-24 22:15:09.000\n",
      "0.3009523809523809\n",
      "SOL2011-01-26T01:52:21L007C038\n",
      "0.48856209150326796\n",
      "SOL2011-02-13T04:57:46L131C056\n",
      "0.3775510204081632\n",
      "SOL2011-02-14T05:31:16L307C065\n",
      "0.22549019607843143\n",
      "SOL2011-03-20T00:00:04L223C126\n",
      "0.6600790513833992\n",
      "SOL2011-04-01T03:00:11L222C115\n",
      "0.735\n",
      "SOL2011-05-27T07:40:18L038C079\n",
      "0.39\n",
      "SOL2011-05-27T21:40:29L028C078\n",
      "0.3333333333333333\n",
      "SOL2011-05-28T00:00:02L027C078\n",
      "0.1433333333333332\n",
      "SOL2011-05-29T07:30:02L165C104\n",
      "0.598\n",
      "SOL2011-05-29T16:10:18L064C064\n",
      "0.7333333333333333\n",
      "SOL2011-08-01T00:20:04L291C071\n",
      "0.8565853658536585\n",
      "SOL2011-09-14T10:30:04L049C062\n",
      "0.8891891891891891\n",
      "SOL2011-12-11T02:00:04L352C108\n",
      "0.6766666666666666\n",
      "SOL2011-12-11T11:30:00L353C109\n",
      "0.6163934426229508\n",
      "SOL2011-12-11T22:30:00L351C107\n",
      "0.47704918032786886\n",
      "SOL2012-01-22T12:20:24L211C062\n",
      "0.836\n",
      "SOL2012-03-05T21:40:12L299C076\n",
      "0.6066666666666667\n",
      "SOL2012-03-08T21:15:00L011C061\n",
      "0.5566666666666666\n",
      "SOL2012-03-17T23:20:12L248C164\n",
      "0.44133333333333336\n",
      "SOL2012-04-02T00:30:04L075C088\n",
      "0.9470454545454545\n",
      "SOL2012-05-20T13:45:00L337C043\n",
      "0.42173913043478256\n",
      "SOL2012-06-14T18:00:04L082C105\n",
      "0.0726666666666667\n",
      "SOL2012-06-23T06:00:04L315C163\n",
      "0.5341176470588235\n",
      "SOL2012-07-20T16:30:04L249C058\n",
      "0.7066666666666667\n",
      "SOL2012-10-10T13:45:03L012C108\n",
      "0.7340000000000001\n",
      "SOL2012-12-16T00:00:03L088C079\n",
      "0.28268518518518515\n",
      "SOL2013-05-03T04:30:35L070C047\n",
      "0.9066666666666666\n",
      "SOL2013-05-04T12:20:23L126C112\n",
      "0.3966666666666666\n",
      "SOL2013-06-02T12:40:11L172C065\n",
      "0.5566666666666666\n",
      "SOL2013-07-21T14:40:03L097C063\n",
      "0.5399999999999999\n",
      "SOL2013-07-24T22:05:03L231C077\n",
      "0.838\n",
      "SOL2013-08-12T09:00:03L170C110\n",
      "0.025\n",
      "SOL2013-09-21T18:20:23L355C092\n",
      "0.3533333333333334\n",
      "SOL2013-09-22T14:30:35L160C071\n",
      "0.6433333333333333\n",
      "SOL2013-11-24T20:15:35L230C100\n",
      "0.47\n",
      "SOL2014-01-05T15:56:03L038C102\n",
      "0.029629629629629655\n",
      "SOL2014-03-03T18:20:23L081C119\n",
      "0.6883333333333332\n",
      "SOL2014-04-10T19:20:03L227C108\n",
      "0.11882352941176474\n",
      "SOL2014-05-10T10:10:03L194C106\n",
      "0.46\n",
      "SOL2014-05-16T04:02:03L263C100\n",
      "0.42857142857142855\n",
      "SOL2014-07-07T16:00:03L204C090\n",
      "0.45333333333333337\n",
      "SOL2014-07-12T03:15:35L263C098\n",
      "-0.043333333333333356\n",
      "SOL2014-07-29T23:50:03L208C080\n",
      "0.4111111111111111\n",
      "SOL2014-07-30T16:40:03L202C120\n",
      "0.40615384615384614\n",
      "SOL2014-10-04T10:10:11L151C097\n",
      "0.7657142857142857\n",
      "SOL2014-10-04T16:10:11L166C104\n",
      "-0.043333333333333356\n",
      "SOL2014-12-03T02:30:35L138C105\n",
      "0.46799999999999997\n",
      "SOL2014-12-03T04:20:23L013C080\n",
      "0.6433333333333333\n",
      "SOL2014-12-03T17:45:35L139C104\n",
      "0.43913043478260866\n",
      "SOL2014-12-23T12:25:11L233C101\n",
      "0.5181818181818182\n",
      "SOL2014-12-23T23:30:35L235C102\n",
      "0.045283018867924504\n",
      "SOL2014-12-25T22:45:35L041C102\n",
      "0.0016666666666666904\n",
      "SOL2015-01-19T10:00:03L253C110\n",
      "0.205\n",
      "SOL2015-01-19T12:15:35L249C111\n",
      "0.390909090909091\n",
      "SOL2015-01-20T12:45:35L244C105\n",
      "-0.060869565217391244\n",
      "SOL2015-01-20T14:45:35L243C102\n",
      "-0.5142857142857142\n",
      "SOL2015-01-21T21:10:11L167C066\n",
      "0.46\n",
      "SOL2015-02-06T11:10:11L203C083\n",
      "0.1373333333333333\n",
      "SOL2015-02-07T10:40:11L333C079\n",
      "0.15599999999999994\n",
      "SOL2015-04-05T23:00:03L330C082\n",
      "-0.4523809523809525\n",
      "SOL2015-04-06T08:50:23L322C061\n",
      "0.18444444444444438\n",
      "SOL2015-04-10T10:05:23L094C071\n",
      "-0.28070175438596484\n",
      "SOL2015-05-02T06:30:35L164C086\n",
      "-0.870909090909091\n",
      "SOL2015-05-08T08:02:03L084C070\n",
      "0.14117647058823532\n",
      "SOL2015-05-29T00:50:23L331C065\n",
      "0.88\n",
      "SOL2015-07-17T08:00:06L032C049\n",
      "0.73\n",
      "SOL2015-08-06T21:30:34L046C100\n",
      "0.6265060240963854\n",
      "SOL2015-08-10T04:50:06L093C037\n",
      "0.684\n",
      "SOL2015-08-25T02:30:34L179C096\n",
      "0.4688888888888889\n",
      "SOL2015-08-25T10:15:34L195C099\n",
      "0.7366666666666667\n",
      "SOL2015-09-10T11:30:06L047C086\n",
      "0.49333333333333335\n",
      "SOL2015-09-21T01:55:10L088C087\n",
      "0.10799999999999997\n",
      "SOL2015-09-22T21:45:34L224C104\n",
      "0.006666666666666604\n",
      "SOL2015-09-22T23:00:06L240C118\n",
      "0.41590909090909106\n",
      "SOL2015-09-29T12:50:22L116C102\n",
      "0.3\n",
      "SOL2015-11-10T16:40:10L141C100\n",
      "-0.9114285714285716\n",
      "SOL2015-12-14T10:40:10L104C106\n",
      "0.8200000000000001\n",
      "SOL2015-12-14T13:05:22L054C068\n",
      "-0.19999999999999996\n",
      "SOL2015-12-15T13:40:10L041C064\n",
      "0.45\n",
      "SOL2015-12-19T01:50:22L129C109\n",
      "0.9214285714285714\n",
      "SOL2016-01-09T13:34:06L251C113\n",
      "0.08181818181818179\n",
      "SOL2016-01-15T18:50:22L162C037\n",
      "0.5760000000000001\n",
      "SOL2016-01-18T14:10:10L090C173\n",
      "0.6333333333333333\n",
      "SOL2016-02-11T16:10:10L173C075\n",
      "0.672\n",
      "SOL2016-02-11T18:50:22L016C163\n",
      "0.25599999999999995\n",
      "SOL2016-02-11T19:10:10L171C072\n",
      "0.01071428571428574\n",
      "SOL2016-02-11T23:45:34L169C079\n",
      "0.5925\n",
      "SOL2016-02-15T14:00:06L100C072\n",
      "0.876\n",
      "SOL2016-02-16T00:00:06L116C072\n",
      "0.8242253521126761\n",
      "SOL2016-03-03T14:00:06L237C019\n",
      "0.6433333333333333\n",
      "SOL2016-03-03T18:55:10L237C021\n",
      "0.5303030303030303\n",
      "SOL2016-06-07T16:35:22L253C005\n",
      "0.21666666666666667\n",
      "SOL2016-06-08T04:00:06L064C028\n",
      "0.07200000000000002\n",
      "SOL2016-07-08T01:35:22L211C116\n",
      "0.6466666666666667\n",
      "SOL2016-07-12T08:00:06L332C077\n",
      "0.3914285714285714\n",
      "SOL2016-09-20T16:35:22L119C109\n",
      "0.6599999999999999\n",
      "SOL2016-10-22T09:40:10L053C026\n",
      "0.5566666666666666\n",
      "SOL2016-11-28T23:15:34L282C007\n",
      "0.6757575757575758\n",
      "SOL2016-12-01T06:00:06L078C065\n",
      "0.7599999999999999\n"
     ]
    }
   ],
   "source": [
    "error_in_timing = []\n",
    "no_jet_time = [] # ratio\n",
    "jet_time = [] # in minutes\n",
    "hek_time = [] # in minutes\n",
    "for SOL in onlyTrue:\n",
    "    print(SOL)\n",
    "    jet_start = Cluster_date[Cluster_SOL == SOL]\n",
    "    jet_dur = Cluster_dur[Cluster_SOL == SOL]\n",
    "    jet_end = []\n",
    "    for i in range(len(jet_start)):\n",
    "        jet_end.append( jet_start[i] + np.timedelta64(int(jet_dur[i]*60),'s') )\n",
    "    jet_end = np.array(jet_end)\n",
    "    selection1 = res['hek'][res['hek'][\"SOL_standard\"]==SOL]\n",
    "    start_time = selection1['event_starttime'][0]\n",
    "    end_time = selection1['event_endtime'][0]\n",
    "    nojt, err, jt, ht = calculate_nojet_time(start_time, end_time, jet_start, jet_end, jet_dur)\n",
    "    print(nojt)\n",
    "    error_in_timing.append(err)\n",
    "    no_jet_time.append(nojt)\n",
    "    jet_time.append(jt)\n",
    "    hek_time.append(ht)"
   ]
  },
  {
   "cell_type": "code",
   "execution_count": 476,
   "id": "b5ca1f93",
   "metadata": {},
   "outputs": [
    {
     "data": {
      "text/plain": [
       "102"
      ]
     },
     "execution_count": 476,
     "metadata": {},
     "output_type": "execute_result"
    }
   ],
   "source": [
    "len(error_in_timing)"
   ]
  },
  {
   "cell_type": "code",
   "execution_count": 493,
   "id": "cf540a34",
   "metadata": {},
   "outputs": [
    {
     "data": {
      "text/plain": [
       "20040.6"
      ]
     },
     "execution_count": 493,
     "metadata": {},
     "output_type": "execute_result"
    }
   ],
   "source": [
    "np.array(hek_time).sum()"
   ]
  },
  {
   "cell_type": "code",
   "execution_count": 494,
   "id": "879b6425",
   "metadata": {},
   "outputs": [
    {
     "data": {
      "text/plain": [
       "8890.6"
      ]
     },
     "execution_count": 494,
     "metadata": {},
     "output_type": "execute_result"
    }
   ],
   "source": [
    "np.array(jet_time).sum()"
   ]
  },
  {
   "cell_type": "code",
   "execution_count": 496,
   "id": "07b0b165",
   "metadata": {},
   "outputs": [
    {
     "data": {
      "text/plain": [
       "44.36294322525274"
      ]
     },
     "execution_count": 496,
     "metadata": {},
     "output_type": "execute_result"
    }
   ],
   "source": [
    "np.array(jet_time).sum() / np.array(hek_time).sum() * 100"
   ]
  },
  {
   "cell_type": "code",
   "execution_count": 364,
   "id": "ff115df1",
   "metadata": {},
   "outputs": [
    {
     "data": {
      "text/plain": [
       "numpy.datetime64('2011-01-21T00:00:08.000000')"
      ]
     },
     "execution_count": 364,
     "metadata": {},
     "output_type": "execute_result"
    }
   ],
   "source": [
    "jet_times_sorted[0,i,1]"
   ]
  },
  {
   "cell_type": "code",
   "execution_count": 456,
   "id": "69d5f4b5",
   "metadata": {},
   "outputs": [
    {
     "data": {
      "text/plain": [
       "'SOL2015-05-08T08:02:03L084C070'"
      ]
     },
     "execution_count": 456,
     "metadata": {},
     "output_type": "execute_result"
    }
   ],
   "source": [
    "onlyTrue[66]"
   ]
  },
  {
   "cell_type": "code",
   "execution_count": 457,
   "id": "f11a35bb",
   "metadata": {},
   "outputs": [
    {
     "data": {
      "text/plain": [
       "'SOL2015-05-29T00:50:23L331C065'"
      ]
     },
     "execution_count": 457,
     "metadata": {},
     "output_type": "execute_result"
    }
   ],
   "source": [
    "onlyTrue[67]"
   ]
  },
  {
   "cell_type": "code",
   "execution_count": 458,
   "id": "93f49470",
   "metadata": {},
   "outputs": [
    {
     "data": {
      "text/plain": [
       "'SOL2015-07-17T08:00:06L032C049'"
      ]
     },
     "execution_count": 458,
     "metadata": {},
     "output_type": "execute_result"
    }
   ],
   "source": [
    "onlyTrue[68]"
   ]
  },
  {
   "cell_type": "code",
   "execution_count": null,
   "id": "0d488d3f",
   "metadata": {},
   "outputs": [],
   "source": []
  }
 ],
 "metadata": {
  "kernelspec": {
   "display_name": "solarjethunterenv",
   "language": "python",
   "name": "solarjethunterenv"
  },
  "language_info": {
   "codemirror_mode": {
    "name": "ipython",
    "version": 3
   },
   "file_extension": ".py",
   "mimetype": "text/x-python",
   "name": "python",
   "nbconvert_exporter": "python",
   "pygments_lexer": "ipython3",
   "version": "3.11.4"
  }
 },
 "nbformat": 4,
 "nbformat_minor": 5
}
